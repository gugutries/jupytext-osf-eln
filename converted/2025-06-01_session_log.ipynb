{
 "cells": [
  {
   "cell_type": "markdown",
   "id": "b1d29719",
   "metadata": {},
   "source": [
    "Session Log – 2025-06-01\n",
    "Participant ID: S007\n",
    "Task: Working Memory\n",
    "Observations: Inquisitive \n",
    "Notes:\n",
    "  Scanner delayed by 9 minutes\n",
    "  Button box issue resolved quickly"
   ]
  }
 ],
 "metadata": {
  "jupytext": {
   "cell_metadata_filter": "-all",
   "main_language": "python",
   "notebook_metadata_filter": "-all"
  }
 },
 "nbformat": 4,
 "nbformat_minor": 5
}
