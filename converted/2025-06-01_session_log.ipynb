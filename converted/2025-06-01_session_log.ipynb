{
 "cells": [
  {
   "cell_type": "markdown",
   "id": "394a93a6",
   "metadata": {},
   "source": [
    "Session Log – 2025-06-01\n",
    "Participant ID: S009\n",
    "Task: Working Memory\n",
    "Observations: Inquisitive \n",
    "Notes:\n",
    "  Scanner delayed by 9 minutes\n",
    "  Button box issue resolved quickly"
   ]
  }
 ],
 "metadata": {
  "jupytext": {
   "cell_metadata_filter": "-all",
   "main_language": "python",
   "notebook_metadata_filter": "-all"
  }
 },
 "nbformat": 4,
 "nbformat_minor": 5
}
