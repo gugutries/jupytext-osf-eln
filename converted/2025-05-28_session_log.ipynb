{
 "cells": [
  {
   "cell_type": "markdown",
   "id": "787efa7b",
   "metadata": {},
   "source": [
    "# Session Log – 2025-05-30\n",
    "\n",
    "**Participant ID**: S0001  \n",
    "**Task**: Working Memory  \n",
    "**Observations**: Calm, cooperative  \n",
    "**Notes**:\n",
    "- Scanner delayed by 5 minutes\n",
    "- Button box issue resolved quickly"
   ]
  }
 ],
 "metadata": {
  "jupytext": {
   "formats": "ipynb,md"
  },
  "kernelspec": {
   "display_name": "Python 3",
   "language": "python",
   "name": "python3"
  }
 },
 "nbformat": 4,
 "nbformat_minor": 5
}
