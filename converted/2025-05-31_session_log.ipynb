{
 "cells": [
  {
   "cell_type": "markdown",
   "id": "d9226a13",
   "metadata": {},
   "source": [
    "# Session Log – 2025-05-31\n",
    "\n",
    "**Participant ID**: S005  \n",
    "**Task**: Working Memory  \n",
    "**Observations**: Inquisitive\n",
    "**Notes**:\n",
    "- Scanner delayed by 5 minutes\n",
    "- Button box issue resolved quickly"
   ]
  }
 ],
 "metadata": {
  "jupytext": {
   "cell_metadata_filter": "-all",
   "main_language": "python",
   "notebook_metadata_filter": "-all"
  }
 },
 "nbformat": 4,
 "nbformat_minor": 5
}
