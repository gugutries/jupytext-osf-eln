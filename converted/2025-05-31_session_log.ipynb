{
 "cells": [
  {
   "cell_type": "markdown",
   "id": "f88ded16",
   "metadata": {},
   "source": [
    "# Session Log – 2025-05-31\n",
    "\n",
    "**Participant ID**: S004  \n",
    "**Task**: Working Memory  \n",
    "**Observations**: Inquisitive\n",
    "**Notes**:\n",
    "- Scanner delayed by 5 minutes\n",
    "- Button box issue resolved quickly"
   ]
  }
 ],
 "metadata": {
  "jupytext": {
   "cell_metadata_filter": "-all",
   "main_language": "python",
   "notebook_metadata_filter": "-all"
  }
 },
 "nbformat": 4,
 "nbformat_minor": 5
}
